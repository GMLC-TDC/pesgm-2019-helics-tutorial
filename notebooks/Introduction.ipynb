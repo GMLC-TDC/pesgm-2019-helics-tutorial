{
 "cells": [
  {
   "cell_type": "markdown",
   "metadata": {},
   "source": [
    "# Introduction"
   ]
  },
  {
   "cell_type": "markdown",
   "metadata": {},
   "source": [
    "### Basics of a Jupyter Notebook"
   ]
  },
  {
   "cell_type": "markdown",
   "metadata": {},
   "source": [
    "Jupyter Notebook is a web interface to running Python code.\n",
    "\n",
    "It consists of a web browser that sends the text in a \"cell\" to a Python kernel running in the background. This Python kernel can be on the same machine running locally or running remotely in the cloud."
   ]
  },
  {
   "cell_type": "markdown",
   "metadata": {},
   "source": [
    "Jupyter Notebook has two modes.\n",
    "\n",
    "- Normal mode\n",
    "- Edit mode\n",
    "\n",
    "You are in normal mode when you see a blue bar next to your cell.\n",
    "You are in insert mode when you see a green bar next to your cell.\n",
    "\n",
    "You are always in normal mode by default."
   ]
  },
  {
   "cell_type": "markdown",
   "metadata": {},
   "source": [
    "- You can hit `Enter` and `Esc` to enter and exit a cell, i.e. enter edit mode and exit edit mode.\n",
    "- You can hit `Shift + Enter` to run a cell\n",
    "- You can hit `a` or `b` to open a new cell above or below the current cell\n",
    "- You can hit `x` to delete a cell\n",
    "- You can hit `z` to undo your last action\n",
    "\n",
    "There's a `Help` button in the menu bar in the top that will let you learn all the keyboard shortcuts."
   ]
  },
  {
   "cell_type": "markdown",
   "metadata": {},
   "source": [
    "This is a markdown cell \n",
    "\n",
    "Double click here to add text and run the cell `Shift + Enter`"
   ]
  },
  {
   "cell_type": "code",
   "execution_count": 1,
   "metadata": {
    "ExecuteTime": {
     "end_time": "2019-07-30T21:17:24.979735Z",
     "start_time": "2019-07-30T21:17:24.976476Z"
    }
   },
   "outputs": [
    {
     "name": "stdout",
     "output_type": "stream",
     "text": [
      "This is a code cell\n"
     ]
    }
   ],
   "source": [
    "print(\"This is a code cell\") # double click to add code and run the cell `Shift + Enter`"
   ]
  },
  {
   "cell_type": "markdown",
   "metadata": {},
   "source": [
    "The output of a code cell is show right below the code cell."
   ]
  },
  {
   "cell_type": "code",
   "execution_count": 2,
   "metadata": {
    "ExecuteTime": {
     "end_time": "2019-07-30T21:17:25.394837Z",
     "start_time": "2019-07-30T21:17:25.299965Z"
    }
   },
   "outputs": [],
   "source": [
    "import helics as h"
   ]
  },
  {
   "cell_type": "code",
   "execution_count": 3,
   "metadata": {
    "ExecuteTime": {
     "end_time": "2019-07-30T21:17:25.493106Z",
     "start_time": "2019-07-30T21:17:25.482793Z"
    }
   },
   "outputs": [
    {
     "data": {
      "text/plain": [
       "'2.1.0 (05-24-19)'"
      ]
     },
     "execution_count": 3,
     "metadata": {},
     "output_type": "execute_result"
    }
   ],
   "source": [
    "h.helicsGetVersion()"
   ]
  },
  {
   "cell_type": "code",
   "execution_count": 4,
   "metadata": {
    "ExecuteTime": {
     "end_time": "2019-07-30T21:17:27.803804Z",
     "start_time": "2019-07-30T21:17:25.666684Z"
    }
   },
   "outputs": [],
   "source": [
    "import opendssdirect as odd"
   ]
  },
  {
   "cell_type": "code",
   "execution_count": 5,
   "metadata": {
    "ExecuteTime": {
     "end_time": "2019-07-30T21:17:27.815121Z",
     "start_time": "2019-07-30T21:17:27.811314Z"
    }
   },
   "outputs": [
    {
     "data": {
      "text/plain": [
       "'0.3.7'"
      ]
     },
     "execution_count": 5,
     "metadata": {},
     "output_type": "execute_result"
    }
   ],
   "source": [
    "odd.__version__"
   ]
  },
  {
   "cell_type": "code",
   "execution_count": 6,
   "metadata": {
    "ExecuteTime": {
     "end_time": "2019-07-30T21:17:28.287369Z",
     "start_time": "2019-07-30T21:17:28.281352Z"
    }
   },
   "outputs": [],
   "source": [
    "import pypower"
   ]
  },
  {
   "cell_type": "code",
   "execution_count": null,
   "metadata": {},
   "outputs": [],
   "source": []
  },
  {
   "cell_type": "code",
   "execution_count": null,
   "metadata": {},
   "outputs": [],
   "source": []
  },
  {
   "cell_type": "code",
   "execution_count": null,
   "metadata": {},
   "outputs": [],
   "source": []
  }
 ],
 "metadata": {
  "hide_input": false,
  "kernelspec": {
   "display_name": "Python 3",
   "language": "python",
   "name": "python3"
  },
  "language_info": {
   "codemirror_mode": {
    "name": "ipython",
    "version": 3
   },
   "file_extension": ".py",
   "mimetype": "text/x-python",
   "name": "python",
   "nbconvert_exporter": "python",
   "pygments_lexer": "ipython3",
   "version": "3.7.3"
  },
  "varInspector": {
   "cols": {
    "lenName": 16,
    "lenType": 16,
    "lenVar": 40
   },
   "kernels_config": {
    "python": {
     "delete_cmd_postfix": "",
     "delete_cmd_prefix": "del ",
     "library": "var_list.py",
     "varRefreshCmd": "print(var_dic_list())"
    },
    "r": {
     "delete_cmd_postfix": ") ",
     "delete_cmd_prefix": "rm(",
     "library": "var_list.r",
     "varRefreshCmd": "cat(var_dic_list()) "
    }
   },
   "types_to_exclude": [
    "module",
    "function",
    "builtin_function_or_method",
    "instance",
    "_Feature"
   ],
   "window_display": false
  }
 },
 "nbformat": 4,
 "nbformat_minor": 2
}
