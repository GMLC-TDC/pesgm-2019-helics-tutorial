{
 "cells": [
  {
   "cell_type": "markdown",
   "metadata": {},
   "source": [
    "# PyPower"
   ]
  },
  {
   "cell_type": "code",
   "execution_count": null,
   "metadata": {
    "ExecuteTime": {
     "end_time": "2019-08-03T22:10:46.334354Z",
     "start_time": "2019-08-03T22:10:46.331710Z"
    }
   },
   "outputs": [],
   "source": [
    "from pypower.runpf import runpf\n",
    "import pypower"
   ]
  },
  {
   "cell_type": "code",
   "execution_count": null,
   "metadata": {
    "ExecuteTime": {
     "end_time": "2019-08-03T22:10:46.342965Z",
     "start_time": "2019-08-03T22:10:46.339378Z"
    }
   },
   "outputs": [],
   "source": [
    "import sys\n",
    "sys.path.append(\"../../data/case9/\")"
   ]
  },
  {
   "cell_type": "code",
   "execution_count": null,
   "metadata": {
    "ExecuteTime": {
     "end_time": "2019-08-03T22:10:46.349193Z",
     "start_time": "2019-08-03T22:10:46.345876Z"
    }
   },
   "outputs": [],
   "source": [
    "from case9 import case9"
   ]
  },
  {
   "cell_type": "code",
   "execution_count": null,
   "metadata": {
    "ExecuteTime": {
     "end_time": "2019-08-03T22:10:46.355825Z",
     "start_time": "2019-08-03T22:10:46.352638Z"
    }
   },
   "outputs": [],
   "source": [
    "case = case9()"
   ]
  },
  {
   "cell_type": "code",
   "execution_count": null,
   "metadata": {
    "ExecuteTime": {
     "end_time": "2019-08-03T22:10:46.381610Z",
     "start_time": "2019-08-03T22:10:46.358624Z"
    }
   },
   "outputs": [],
   "source": [
    "pwd = !pwd"
   ]
  },
  {
   "cell_type": "markdown",
   "metadata": {},
   "source": [
    "![](\"./9BusSystem.jpg\")"
   ]
  },
  {
   "cell_type": "code",
   "execution_count": null,
   "metadata": {
    "ExecuteTime": {
     "end_time": "2019-08-03T22:10:46.389655Z",
     "start_time": "2019-08-03T22:10:46.385339Z"
    }
   },
   "outputs": [],
   "source": [
    "ppopt = pypower.ppoption.ppoption(VERBOSE=0)"
   ]
  },
  {
   "cell_type": "code",
   "execution_count": null,
   "metadata": {
    "ExecuteTime": {
     "end_time": "2019-08-03T22:10:46.397548Z",
     "start_time": "2019-08-03T22:10:46.392566Z"
    }
   },
   "outputs": [],
   "source": [
    "import os, sys\n",
    "\n",
    "class HiddenPrints:\n",
    "    def __enter__(self):\n",
    "        self._original_stdout = sys.stdout\n",
    "        sys.stdout = open(os.devnull, 'w')\n",
    "\n",
    "    def __exit__(self, exc_type, exc_val, exc_tb):\n",
    "        sys.stdout.close()\n",
    "        sys.stdout = self._original_stdout"
   ]
  },
  {
   "cell_type": "code",
   "execution_count": null,
   "metadata": {
    "ExecuteTime": {
     "end_time": "2019-08-03T21:50:34.361907Z",
     "start_time": "2019-08-03T21:50:34.318017Z"
    }
   },
   "outputs": [],
   "source": []
  },
  {
   "cell_type": "code",
   "execution_count": null,
   "metadata": {
    "ExecuteTime": {
     "end_time": "2019-08-03T21:50:27.759287Z",
     "start_time": "2019-08-03T21:50:27.756124Z"
    }
   },
   "outputs": [],
   "source": []
  },
  {
   "cell_type": "code",
   "execution_count": null,
   "metadata": {},
   "outputs": [],
   "source": []
  },
  {
   "cell_type": "code",
   "execution_count": null,
   "metadata": {},
   "outputs": [],
   "source": []
  },
  {
   "cell_type": "markdown",
   "metadata": {
    "ExecuteTime": {
     "end_time": "2019-07-30T21:26:10.178362Z",
     "start_time": "2019-07-30T21:26:10.175505Z"
    }
   },
   "source": [
    "### Initialization"
   ]
  },
  {
   "cell_type": "code",
   "execution_count": null,
   "metadata": {
    "ExecuteTime": {
     "end_time": "2019-08-03T22:10:46.405681Z",
     "start_time": "2019-08-03T22:10:46.400160Z"
    }
   },
   "outputs": [],
   "source": [
    "# -*- coding: utf-8 -*-\n",
    "import time\n",
    "import helics as h\n",
    "from math import pi\n",
    "\n",
    "initstring = \"-f 2 --name=mainbroker\"\n",
    "fedinitstring = \"--broker=mainbroker --federates=1\"\n",
    "deltat = 0.01\n",
    "\n",
    "helicsversion = h.helicsGetVersion()\n",
    "\n",
    "print(\"Helics version = {}\".format(helicsversion))"
   ]
  },
  {
   "cell_type": "markdown",
   "metadata": {},
   "source": [
    "### Create the broker"
   ]
  },
  {
   "cell_type": "code",
   "execution_count": null,
   "metadata": {
    "ExecuteTime": {
     "end_time": "2019-08-03T22:10:46.418849Z",
     "start_time": "2019-08-03T22:10:46.408258Z"
    }
   },
   "outputs": [],
   "source": [
    "\n",
    "print(\"Creating Broker\")\n",
    "broker = h.helicsCreateBroker(\"zmq\", \"\", initstring)\n",
    "print(\"Created Broker\")\n",
    "\n",
    "print(\"Checking if Broker is connected\")\n",
    "isconnected = h.helicsBrokerIsConnected(broker)\n",
    "print(\"Checked if Broker is connected\")\n",
    "\n",
    "if isconnected == 1:\n",
    "    print(\"Broker created and connected\")"
   ]
  },
  {
   "cell_type": "markdown",
   "metadata": {},
   "source": [
    "### Create the federate info object"
   ]
  },
  {
   "cell_type": "code",
   "execution_count": null,
   "metadata": {
    "ExecuteTime": {
     "end_time": "2019-08-03T22:10:46.426647Z",
     "start_time": "2019-08-03T22:10:46.422605Z"
    }
   },
   "outputs": [],
   "source": [
    "# Create Federate Info object that describes the federate properties #\n",
    "fedinfo = h.helicsCreateFederateInfo()\n",
    "\n",
    "# Set Federate name #\n",
    "h.helicsFederateInfoSetCoreName(fedinfo, \"PyPowerFederate\")\n",
    "\n",
    "# Set core type from string #\n",
    "h.helicsFederateInfoSetCoreTypeFromString(fedinfo, \"zmq\")\n",
    "\n",
    "# Federate init string #\n",
    "h.helicsFederateInfoSetCoreInitString(fedinfo, fedinitstring)\n",
    "\n",
    "# Set the message interval (timedelta) for federate. Note th#\n",
    "# HELICS minimum message time interval is 1 ns and by default\n",
    "# it uses a time delta of 1 second. What is provided to the\n",
    "# setTimedelta routine is a multiplier for the default timedelta.\n",
    "\n",
    "# Set one second message interval #\n",
    "h.helicsFederateInfoSetTimeProperty(fedinfo, h.helics_property_time_delta, deltat)"
   ]
  },
  {
   "cell_type": "markdown",
   "metadata": {},
   "source": [
    "### Create a value federate"
   ]
  },
  {
   "cell_type": "code",
   "execution_count": null,
   "metadata": {
    "ExecuteTime": {
     "end_time": "2019-08-03T22:10:46.543773Z",
     "start_time": "2019-08-03T22:10:46.429487Z"
    }
   },
   "outputs": [],
   "source": [
    "# Create value federate #\n",
    "vfed = h.helicsCreateValueFederate(\"PyPowerFederate\", fedinfo)\n",
    "print(\"Value federate created\")\n",
    "\n",
    "# Register the publication #\n",
    "pub = h.helicsFederateRegisterGlobalTypePublication(vfed, \"voltage\", \"complex\", \"\")\n",
    "sub = h.helicsFederateRegisterSubscription(vfed, \"load\", \"\")"
   ]
  },
  {
   "cell_type": "markdown",
   "metadata": {
    "ExecuteTime": {
     "end_time": "2019-07-30T21:27:14.562216Z",
     "start_time": "2019-07-30T21:27:14.557848Z"
    }
   },
   "source": [
    "### Enter execution"
   ]
  },
  {
   "cell_type": "code",
   "execution_count": null,
   "metadata": {
    "ExecuteTime": {
     "end_time": "2019-08-03T22:10:46.635702Z",
     "start_time": "2019-08-03T22:10:46.546897Z"
    }
   },
   "outputs": [],
   "source": [
    "# Enter execution mode #\n",
    "h.helicsFederateEnterExecutingMode(vfed)\n",
    "print(\"Entering execution mode\")"
   ]
  },
  {
   "cell_type": "markdown",
   "metadata": {
    "ExecuteTime": {
     "end_time": "2019-07-30T21:27:23.402236Z",
     "start_time": "2019-07-30T21:27:23.398886Z"
    }
   },
   "source": [
    "### Start simulation"
   ]
  },
  {
   "cell_type": "code",
   "execution_count": null,
   "metadata": {
    "ExecuteTime": {
     "end_time": "2019-08-03T22:10:46.649877Z",
     "start_time": "2019-08-03T22:10:46.644542Z"
    }
   },
   "outputs": [],
   "source": [
    "import numpy as np"
   ]
  },
  {
   "cell_type": "code",
   "execution_count": null,
   "metadata": {
    "ExecuteTime": {
     "end_time": "2019-08-03T22:10:46.660445Z",
     "start_time": "2019-08-03T22:10:46.655791Z"
    }
   },
   "outputs": [],
   "source": [
    "def pol2cart(rho, phi):\n",
    "    x = rho * np.cos(phi)\n",
    "    y = rho * np.sin(phi)\n",
    "    return x, y"
   ]
  },
  {
   "cell_type": "code",
   "execution_count": null,
   "metadata": {
    "ExecuteTime": {
     "start_time": "2019-08-03T22:10:46.420Z"
    }
   },
   "outputs": [],
   "source": [
    "\n",
    "granted_time = -1\n",
    "\n",
    "for request_time in range(1, 300):\n",
    "    \n",
    "    while granted_time < request_time:\n",
    "        granted_time = h.helicsFederateRequestTime(vfed, request_time)\n",
    "    \n",
    "    Pg, Qg = h.helicsInputGetComplex(sub)\n",
    "    print(\"Active power at time {}: {} \".format(request_time, Pg))\n",
    "    print(\"Reactive power at time {}: {} \".format(request_time, Qg))\n",
    "\n",
    "    case[\"bus\"][4][3:5] = Pg, Qg\n",
    "    r, s = runpf(case, fname=\"/dev/null\", ppopt=ppopt)\n",
    "    voltage, angle = r[\"bus\"][4][7:9]\n",
    "    voltage_re, voltage_im = pol2cart(voltage, angle)\n",
    "    \n",
    "    print(\"Source voltage mag at time {}: {} \".format(request_time, voltage))\n",
    "    print(\"Source voltage ang at time {}: {} \".format(request_time, angle))\n",
    "\n",
    "    h.helicsPublicationPublishComplex(pub, voltage_re, voltage_im)\n",
    "    \n",
    "    print()\n",
    "\n",
    "\n",
    "h.helicsFederateFinalize(vfed)\n",
    "print(\"Federate finalized\")\n",
    "\n",
    "while h.helicsBrokerIsConnected(broker):\n",
    "    time.sleep(1)\n",
    "\n",
    "h.helicsFederateFree(vfed)\n",
    "h.helicsCloseLibrary()\n",
    "\n",
    "print(\"Broker disconnected\")"
   ]
  },
  {
   "cell_type": "code",
   "execution_count": null,
   "metadata": {},
   "outputs": [],
   "source": []
  }
 ],
 "metadata": {
  "@webio": {
   "lastCommId": null,
   "lastKernelId": null
  },
  "hide_input": false,
  "kernelspec": {
   "display_name": "Python [conda env:helics-environment]",
   "language": "python",
   "name": "conda-env-helics-environment-py"
  },
  "language_info": {
   "codemirror_mode": {
    "name": "ipython",
    "version": 3
   },
   "file_extension": ".py",
   "mimetype": "text/x-python",
   "name": "python",
   "nbconvert_exporter": "python",
   "pygments_lexer": "ipython3",
   "version": "3.7.3"
  },
  "varInspector": {
   "cols": {
    "lenName": 16,
    "lenType": 16,
    "lenVar": 40
   },
   "kernels_config": {
    "python": {
     "delete_cmd_postfix": "",
     "delete_cmd_prefix": "del ",
     "library": "var_list.py",
     "varRefreshCmd": "print(var_dic_list())"
    },
    "r": {
     "delete_cmd_postfix": ") ",
     "delete_cmd_prefix": "rm(",
     "library": "var_list.r",
     "varRefreshCmd": "cat(var_dic_list()) "
    }
   },
   "types_to_exclude": [
    "module",
    "function",
    "builtin_function_or_method",
    "instance",
    "_Feature"
   ],
   "window_display": false
  }
 },
 "nbformat": 4,
 "nbformat_minor": 2
}
