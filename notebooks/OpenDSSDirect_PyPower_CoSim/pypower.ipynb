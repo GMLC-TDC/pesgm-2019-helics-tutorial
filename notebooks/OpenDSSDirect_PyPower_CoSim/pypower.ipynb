{
 "cells": [
  {
   "cell_type": "markdown",
   "metadata": {},
   "source": [
    "# PyPower"
   ]
  },
  {
   "cell_type": "code",
   "execution_count": null,
   "metadata": {
    "ExecuteTime": {
     "end_time": "2019-08-03T22:28:28.521788Z",
     "start_time": "2019-08-03T22:28:28.413267Z"
    }
   },
   "outputs": [],
   "source": [
    "from pypower.runpf import runpf\n",
    "import pypower"
   ]
  },
  {
   "cell_type": "code",
   "execution_count": null,
   "metadata": {
    "ExecuteTime": {
     "end_time": "2019-08-03T22:28:28.526833Z",
     "start_time": "2019-08-03T22:28:28.523930Z"
    }
   },
   "outputs": [],
   "source": [
    "import sys\n",
    "sys.path.append(\"../../data/case9/\")"
   ]
  },
  {
   "cell_type": "code",
   "execution_count": null,
   "metadata": {
    "ExecuteTime": {
     "end_time": "2019-08-03T22:28:28.542462Z",
     "start_time": "2019-08-03T22:28:28.532830Z"
    }
   },
   "outputs": [],
   "source": [
    "from case9 import case9"
   ]
  },
  {
   "cell_type": "code",
   "execution_count": null,
   "metadata": {
    "ExecuteTime": {
     "end_time": "2019-08-03T22:28:28.550957Z",
     "start_time": "2019-08-03T22:28:28.547569Z"
    }
   },
   "outputs": [],
   "source": [
    "case = case9()"
   ]
  },
  {
   "cell_type": "markdown",
   "metadata": {},
   "source": [
    "![](\"./9BusSystem.jpg\")"
   ]
  },
  {
   "cell_type": "code",
   "execution_count": null,
   "metadata": {
    "ExecuteTime": {
     "end_time": "2019-08-03T22:28:28.559681Z",
     "start_time": "2019-08-03T22:28:28.555197Z"
    }
   },
   "outputs": [],
   "source": [
    "ppopt = pypower.ppoption.ppoption(VERBOSE=0)"
   ]
  },
  {
   "cell_type": "markdown",
   "metadata": {
    "ExecuteTime": {
     "end_time": "2019-07-30T21:26:10.178362Z",
     "start_time": "2019-07-30T21:26:10.175505Z"
    }
   },
   "source": [
    "### Initialization"
   ]
  },
  {
   "cell_type": "code",
   "execution_count": null,
   "metadata": {
    "ExecuteTime": {
     "end_time": "2019-08-03T22:28:28.582168Z",
     "start_time": "2019-08-03T22:28:28.566143Z"
    }
   },
   "outputs": [],
   "source": [
    "# -*- coding: utf-8 -*-\n",
    "import time\n",
    "import helics as h\n",
    "from math import pi\n",
    "\n",
    "initstring = \"-f 2 --name=mainbroker\"\n",
    "fedinitstring = \"--broker=mainbroker --federates=1\"\n",
    "deltat = 0.01\n",
    "\n",
    "helicsversion = h.helicsGetVersion()\n",
    "\n",
    "print(\"Helics version = {}\".format(helicsversion))"
   ]
  },
  {
   "cell_type": "markdown",
   "metadata": {},
   "source": [
    "### Create the broker"
   ]
  },
  {
   "cell_type": "code",
   "execution_count": null,
   "metadata": {
    "ExecuteTime": {
     "end_time": "2019-08-03T22:28:28.600384Z",
     "start_time": "2019-08-03T22:28:28.584847Z"
    }
   },
   "outputs": [],
   "source": [
    "\n",
    "print(\"Creating Broker\")\n",
    "broker = h.helicsCreateBroker(\"zmq\", \"\", initstring)\n",
    "print(\"Created Broker\")\n",
    "\n",
    "print(\"Checking if Broker is connected\")\n",
    "isconnected = h.helicsBrokerIsConnected(broker)\n",
    "print(\"Checked if Broker is connected\")\n",
    "\n",
    "if isconnected == 1:\n",
    "    print(\"Broker created and connected\")"
   ]
  },
  {
   "cell_type": "markdown",
   "metadata": {},
   "source": [
    "### Create the federate info object"
   ]
  },
  {
   "cell_type": "code",
   "execution_count": null,
   "metadata": {
    "ExecuteTime": {
     "end_time": "2019-08-03T22:28:28.616342Z",
     "start_time": "2019-08-03T22:28:28.609230Z"
    }
   },
   "outputs": [],
   "source": [
    "# Create Federate Info object that describes the federate properties #\n",
    "fedinfo = h.helicsCreateFederateInfo()\n",
    "\n",
    "# Set Federate name #\n",
    "h.helicsFederateInfoSetCoreName(fedinfo, \"PyPowerFederate\")\n",
    "\n",
    "# Set core type from string #\n",
    "h.helicsFederateInfoSetCoreTypeFromString(fedinfo, \"zmq\")\n",
    "\n",
    "# Federate init string #\n",
    "h.helicsFederateInfoSetCoreInitString(fedinfo, fedinitstring)\n",
    "\n",
    "# Set the message interval (timedelta) for federate. Note th#\n",
    "# HELICS minimum message time interval is 1 ns and by default\n",
    "# it uses a time delta of 1 second. What is provided to the\n",
    "# setTimedelta routine is a multiplier for the default timedelta.\n",
    "\n",
    "# Set one second message interval #\n",
    "h.helicsFederateInfoSetTimeProperty(fedinfo, h.helics_property_time_delta, deltat)"
   ]
  },
  {
   "cell_type": "markdown",
   "metadata": {},
   "source": [
    "### Create a value federate"
   ]
  },
  {
   "cell_type": "code",
   "execution_count": null,
   "metadata": {
    "ExecuteTime": {
     "end_time": "2019-08-03T22:28:28.739356Z",
     "start_time": "2019-08-03T22:28:28.620721Z"
    }
   },
   "outputs": [],
   "source": [
    "# Create value federate #\n",
    "vfed = h.helicsCreateValueFederate(\"PyPowerFederate\", fedinfo)\n",
    "print(\"Value federate created\")\n",
    "\n",
    "# Register the publication #\n",
    "pub = h.helicsFederateRegisterGlobalTypePublication(vfed, \"voltage\", \"complex\", \"\")\n",
    "sub = h.helicsFederateRegisterSubscription(vfed, \"load\", \"\")"
   ]
  },
  {
   "cell_type": "markdown",
   "metadata": {
    "ExecuteTime": {
     "end_time": "2019-07-30T21:27:14.562216Z",
     "start_time": "2019-07-30T21:27:14.557848Z"
    }
   },
   "source": [
    "### Enter execution"
   ]
  },
  {
   "cell_type": "code",
   "execution_count": null,
   "metadata": {
    "ExecuteTime": {
     "end_time": "2019-08-03T22:28:31.964704Z",
     "start_time": "2019-08-03T22:28:28.743433Z"
    }
   },
   "outputs": [],
   "source": [
    "# Enter execution mode #\n",
    "h.helicsFederateEnterExecutingMode(vfed)\n",
    "print(\"Entering execution mode\")"
   ]
  },
  {
   "cell_type": "markdown",
   "metadata": {
    "ExecuteTime": {
     "end_time": "2019-07-30T21:27:23.402236Z",
     "start_time": "2019-07-30T21:27:23.398886Z"
    }
   },
   "source": [
    "### Start simulation"
   ]
  },
  {
   "cell_type": "code",
   "execution_count": null,
   "metadata": {
    "ExecuteTime": {
     "end_time": "2019-08-03T22:28:31.971725Z",
     "start_time": "2019-08-03T22:28:31.968104Z"
    }
   },
   "outputs": [],
   "source": [
    "import numpy as np"
   ]
  },
  {
   "cell_type": "code",
   "execution_count": null,
   "metadata": {
    "ExecuteTime": {
     "end_time": "2019-08-03T22:28:31.980292Z",
     "start_time": "2019-08-03T22:28:31.974918Z"
    }
   },
   "outputs": [],
   "source": [
    "def pol2cart(rho, phi):\n",
    "    x = rho * np.cos(phi)\n",
    "    y = rho * np.sin(phi)\n",
    "    return x, y"
   ]
  },
  {
   "cell_type": "code",
   "execution_count": null,
   "metadata": {
    "ExecuteTime": {
     "end_time": "2019-08-03T22:28:46.678204Z",
     "start_time": "2019-08-03T22:28:31.989116Z"
    }
   },
   "outputs": [],
   "source": [
    "\n",
    "granted_time = -1\n",
    "\n",
    "for request_time in range(1, 300):\n",
    "    \n",
    "    while granted_time < request_time:\n",
    "        granted_time = h.helicsFederateRequestTime(vfed, request_time)\n",
    "    \n",
    "    Pg, Qg = h.helicsInputGetComplex(sub)\n",
    "    print(\"Active power at time {}: {} \".format(request_time, Pg))\n",
    "    print(\"Reactive power at time {}: {} \".format(request_time, Qg))\n",
    "\n",
    "    case[\"bus\"][4][3:5] = Pg, Qg\n",
    "    r, s = runpf(case, fname=\"/dev/null\", ppopt=ppopt)\n",
    "    voltage, angle = r[\"bus\"][4][7:9]\n",
    "    \n",
    "    print(\"Source voltage mag at time {}: {} \".format(request_time, voltage))\n",
    "    print(\"Source voltage ang at time {}: {} \".format(request_time, angle))\n",
    "\n",
    "    h.helicsPublicationPublishComplex(pub, voltage, angle)\n",
    "    \n",
    "    print()\n",
    "\n",
    "\n",
    "h.helicsFederateFinalize(vfed)\n",
    "print(\"Federate finalized\")\n",
    "\n",
    "while h.helicsBrokerIsConnected(broker):\n",
    "    time.sleep(1)\n",
    "\n",
    "h.helicsFederateFree(vfed)\n",
    "h.helicsCloseLibrary()\n",
    "\n",
    "print(\"Broker disconnected\")"
   ]
  },
  {
   "cell_type": "code",
   "execution_count": null,
   "metadata": {},
   "outputs": [],
   "source": []
  }
 ],
 "metadata": {
  "@webio": {
   "lastCommId": null,
   "lastKernelId": null
  },
  "hide_input": false,
  "kernelspec": {
   "display_name": "Python [conda env:helics-environment]",
   "language": "python",
   "name": "conda-env-helics-environment-py"
  },
  "language_info": {
   "codemirror_mode": {
    "name": "ipython",
    "version": 3
   },
   "file_extension": ".py",
   "mimetype": "text/x-python",
   "name": "python",
   "nbconvert_exporter": "python",
   "pygments_lexer": "ipython3",
   "version": "3.7.3"
  },
  "varInspector": {
   "cols": {
    "lenName": 16,
    "lenType": 16,
    "lenVar": 40
   },
   "kernels_config": {
    "python": {
     "delete_cmd_postfix": "",
     "delete_cmd_prefix": "del ",
     "library": "var_list.py",
     "varRefreshCmd": "print(var_dic_list())"
    },
    "r": {
     "delete_cmd_postfix": ") ",
     "delete_cmd_prefix": "rm(",
     "library": "var_list.r",
     "varRefreshCmd": "cat(var_dic_list()) "
    }
   },
   "types_to_exclude": [
    "module",
    "function",
    "builtin_function_or_method",
    "instance",
    "_Feature"
   ],
   "window_display": false
  }
 },
 "nbformat": 4,
 "nbformat_minor": 2
}
