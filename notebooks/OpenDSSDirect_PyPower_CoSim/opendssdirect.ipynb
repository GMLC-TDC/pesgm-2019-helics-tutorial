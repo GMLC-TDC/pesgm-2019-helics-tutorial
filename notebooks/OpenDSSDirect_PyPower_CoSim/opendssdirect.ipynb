{
 "cells": [
  {
   "cell_type": "markdown",
   "metadata": {},
   "source": [
    "# OpenDSS"
   ]
  },
  {
   "cell_type": "code",
   "execution_count": null,
   "metadata": {
    "ExecuteTime": {
     "end_time": "2019-08-03T22:10:43.005483Z",
     "start_time": "2019-08-03T22:10:43.001869Z"
    }
   },
   "outputs": [],
   "source": [
    "import opendssdirect as odd"
   ]
  },
  {
   "cell_type": "code",
   "execution_count": null,
   "metadata": {
    "ExecuteTime": {
     "end_time": "2019-08-03T22:10:43.015024Z",
     "start_time": "2019-08-03T22:10:43.008004Z"
    }
   },
   "outputs": [],
   "source": [
    "odd.__version__"
   ]
  },
  {
   "cell_type": "code",
   "execution_count": null,
   "metadata": {
    "ExecuteTime": {
     "end_time": "2019-08-03T22:10:43.026718Z",
     "start_time": "2019-08-03T22:10:43.018302Z"
    }
   },
   "outputs": [],
   "source": [
    "odd.run_command(\"redirect ../../data/IEEE13/IEEE13Nodeckt.dss\")"
   ]
  },
  {
   "cell_type": "code",
   "execution_count": null,
   "metadata": {
    "ExecuteTime": {
     "end_time": "2019-08-03T22:10:43.034314Z",
     "start_time": "2019-08-03T22:10:43.029199Z"
    }
   },
   "outputs": [],
   "source": [
    "odd.run_command(\"Solve\")"
   ]
  },
  {
   "cell_type": "code",
   "execution_count": null,
   "metadata": {
    "ExecuteTime": {
     "end_time": "2019-08-03T22:10:43.041545Z",
     "start_time": "2019-08-03T22:10:43.036764Z"
    }
   },
   "outputs": [],
   "source": [
    "odd.Circuit.SetActiveClass(\"Vsource\")\n",
    "\n",
    "odd.Circuit.SetActiveElement(\"source\")"
   ]
  },
  {
   "cell_type": "code",
   "execution_count": null,
   "metadata": {
    "ExecuteTime": {
     "end_time": "2019-08-03T22:10:43.048884Z",
     "start_time": "2019-08-03T22:10:43.043686Z"
    }
   },
   "outputs": [],
   "source": [
    "odd.CktElement.Name()"
   ]
  },
  {
   "cell_type": "code",
   "execution_count": null,
   "metadata": {
    "ExecuteTime": {
     "end_time": "2019-08-03T22:10:43.054959Z",
     "start_time": "2019-08-03T22:10:43.051866Z"
    }
   },
   "outputs": [],
   "source": [
    "BASEKV = odd.Vsources.BasekV()"
   ]
  },
  {
   "cell_type": "code",
   "execution_count": null,
   "metadata": {
    "ExecuteTime": {
     "end_time": "2019-08-03T22:10:43.060890Z",
     "start_time": "2019-08-03T22:10:43.057902Z"
    }
   },
   "outputs": [],
   "source": [
    "odd.Vsources.BasekV(110)"
   ]
  },
  {
   "cell_type": "code",
   "execution_count": null,
   "metadata": {
    "ExecuteTime": {
     "end_time": "2019-08-03T22:10:43.068133Z",
     "start_time": "2019-08-03T22:10:43.063520Z"
    }
   },
   "outputs": [],
   "source": [
    "odd.Vsources.BasekV()"
   ]
  },
  {
   "cell_type": "code",
   "execution_count": null,
   "metadata": {
    "ExecuteTime": {
     "end_time": "2019-08-03T22:10:43.074837Z",
     "start_time": "2019-08-03T22:10:43.070126Z"
    }
   },
   "outputs": [],
   "source": [
    "odd.Vsources.AngleDeg()"
   ]
  },
  {
   "cell_type": "code",
   "execution_count": null,
   "metadata": {
    "ExecuteTime": {
     "end_time": "2019-08-03T22:10:43.079575Z",
     "start_time": "2019-08-03T22:10:43.076952Z"
    }
   },
   "outputs": [],
   "source": [
    "odd.Vsources.AngleDeg(25)"
   ]
  },
  {
   "cell_type": "code",
   "execution_count": null,
   "metadata": {
    "ExecuteTime": {
     "end_time": "2019-08-03T22:10:43.086237Z",
     "start_time": "2019-08-03T22:10:43.081769Z"
    }
   },
   "outputs": [],
   "source": [
    "odd.Vsources.AngleDeg()"
   ]
  },
  {
   "cell_type": "code",
   "execution_count": null,
   "metadata": {
    "ExecuteTime": {
     "end_time": "2019-08-03T21:58:48.129629Z",
     "start_time": "2019-08-03T21:58:48.122731Z"
    }
   },
   "outputs": [],
   "source": []
  },
  {
   "cell_type": "code",
   "execution_count": null,
   "metadata": {
    "ExecuteTime": {
     "end_time": "2019-08-03T22:10:43.090984Z",
     "start_time": "2019-08-03T22:10:43.087979Z"
    }
   },
   "outputs": [],
   "source": [
    "# -*- coding: utf-8 -*-\n",
    "import helics as h\n",
    "\n",
    "fedinitstring = \"--federates=1\"\n",
    "deltat = 0.01\n",
    "\n",
    "helicsversion = h.helicsGetVersion()"
   ]
  },
  {
   "cell_type": "markdown",
   "metadata": {},
   "source": [
    "### Create the federate Info object"
   ]
  },
  {
   "cell_type": "code",
   "execution_count": null,
   "metadata": {
    "ExecuteTime": {
     "end_time": "2019-08-03T22:10:43.106048Z",
     "start_time": "2019-08-03T22:10:43.093091Z"
    }
   },
   "outputs": [],
   "source": [
    "# Create Federate Info object that describes the federate properties */\n",
    "print(\"Creating Federate Info\")\n",
    "fedinfo = h.helicsCreateFederateInfo()\n",
    "\n",
    "# Set Federate name\n",
    "print(\"Setting Federate Info Name\")\n",
    "h.helicsFederateInfoSetCoreName(fedinfo, \"OpenDSSFederate\")\n",
    "\n",
    "# Set core type from string\n",
    "print(\"Setting Federate Info Core Type\")\n",
    "h.helicsFederateInfoSetCoreTypeFromString(fedinfo, \"zmq\")\n",
    "\n",
    "# Federate init string\n",
    "print(\"Setting Federate Info Init String\")\n",
    "h.helicsFederateInfoSetCoreInitString(fedinfo, fedinitstring)\n",
    "\n",
    "# Set the message interval (timedelta) for federate. Note that\n",
    "# HELICS minimum message time interval is 1 ns and by default\n",
    "# it uses a time delta of 1 second. What is provided to the\n",
    "# setTimedelta routine is a multiplier for the default timedelta.\n",
    "\n",
    "# Set one second message interval\n",
    "print(\"Setting Federate Info Time Delta\")\n",
    "h.helicsFederateInfoSetTimeProperty(fedinfo, h.helics_property_time_delta, deltat)"
   ]
  },
  {
   "cell_type": "markdown",
   "metadata": {},
   "source": [
    "### Create the value federate"
   ]
  },
  {
   "cell_type": "code",
   "execution_count": null,
   "metadata": {
    "ExecuteTime": {
     "end_time": "2019-08-03T22:10:46.622944Z",
     "start_time": "2019-08-03T22:10:43.109742Z"
    }
   },
   "outputs": [],
   "source": [
    "vfed = h.helicsCreateValueFederate(\"OpenDSSFederate\", fedinfo)\n",
    "sub = h.helicsFederateRegisterSubscription(vfed, \"voltage\", \"\")\n",
    "pub = h.helicsFederateRegisterGlobalTypePublication(vfed, \"load\", \"complex\", \"\")"
   ]
  },
  {
   "cell_type": "markdown",
   "metadata": {
    "ExecuteTime": {
     "end_time": "2019-07-30T21:25:02.162131Z",
     "start_time": "2019-07-30T21:25:02.159707Z"
    }
   },
   "source": [
    "### Enter execution"
   ]
  },
  {
   "cell_type": "code",
   "execution_count": null,
   "metadata": {
    "ExecuteTime": {
     "end_time": "2019-08-03T22:10:46.635688Z",
     "start_time": "2019-08-03T22:10:46.629077Z"
    }
   },
   "outputs": [],
   "source": [
    "h.helicsFederateEnterExecutingMode(vfed)"
   ]
  },
  {
   "cell_type": "markdown",
   "metadata": {},
   "source": [
    "### Start simulation"
   ]
  },
  {
   "cell_type": "code",
   "execution_count": null,
   "metadata": {
    "ExecuteTime": {
     "end_time": "2019-08-03T22:10:46.654550Z",
     "start_time": "2019-08-03T22:10:46.645478Z"
    }
   },
   "outputs": [],
   "source": [
    "import numpy as np\n",
    "\n",
    "def cart2pol(x, y):\n",
    "    rho = np.sqrt(x**2 + y**2)\n",
    "    phi = np.arctan2(y, x)\n",
    "    return(rho, phi)"
   ]
  },
  {
   "cell_type": "code",
   "execution_count": null,
   "metadata": {
    "ExecuteTime": {
     "end_time": "2019-08-03T22:11:15.170730Z",
     "start_time": "2019-08-03T22:10:46.657768Z"
    }
   },
   "outputs": [],
   "source": [
    "value = 0.0\n",
    "prevtime = 0\n",
    "\n",
    "granted_time = -1\n",
    "\n",
    "for request_time in range(1, 300):\n",
    "\n",
    "    while granted_time < request_time:\n",
    "        granted_time = h.helicsFederateRequestTime(vfed, request_time)\n",
    "\n",
    "    voltage_re, voltage_im = h.helicsInputGetComplex(sub)\n",
    "    v, a = cart2pol(voltage_re, voltage_im)\n",
    "\n",
    "    odd.Circuit.SetActiveClass(\"Vsource\")\n",
    "    odd.Circuit.SetActiveElement(\"source\")\n",
    "    odd.Vsources.AngleDeg(a)\n",
    "    odd.Vsources.BasekV(v * BASEKV)\n",
    "    print(\"Source voltage mag at time {}: {} \".format(request_time, v))\n",
    "    print(\"Source voltage ang at time {}: {} \".format(request_time, a))\n",
    "    odd.run_command(\"Solve\")\n",
    "    \n",
    "    odd.Circuit.SetActiveClass(\"Line\")\n",
    "    odd.Circuit.SetActiveElement(\"650632\")\n",
    "    S = sum([complex(x,y) for x, y in zip(odd.CktElement.Powers()[0:6], odd.CktElement.Powers()[1:6])])\n",
    "    Pg = S.real\n",
    "    Qg = S.imag\n",
    "    print(\"Active power at time {}: {} \".format(request_time, Pg))\n",
    "    print(\"Reactive power at time {}: {} \".format(request_time, Qg))\n",
    "    \n",
    "    h.helicsPublicationPublishComplex(pub, Pg / 1000, Qg / 1000)\n",
    "    \n",
    "    print()\n",
    "\n",
    "\n",
    "h.helicsFederateFinalize(vfed)\n",
    "\n",
    "h.helicsFederateFree(vfed)\n",
    "h.helicsCloseLibrary()\n",
    "print(\"Federate finalized\")"
   ]
  },
  {
   "cell_type": "code",
   "execution_count": null,
   "metadata": {},
   "outputs": [],
   "source": []
  }
 ],
 "metadata": {
  "@webio": {
   "lastCommId": null,
   "lastKernelId": null
  },
  "hide_input": false,
  "kernelspec": {
   "display_name": "Python 3",
   "language": "python",
   "name": "python3"
  },
  "language_info": {
   "codemirror_mode": {
    "name": "ipython",
    "version": 3
   },
   "file_extension": ".py",
   "mimetype": "text/x-python",
   "name": "python",
   "nbconvert_exporter": "python",
   "pygments_lexer": "ipython3",
   "version": "3.7.3"
  },
  "varInspector": {
   "cols": {
    "lenName": 16,
    "lenType": 16,
    "lenVar": 40
   },
   "kernels_config": {
    "python": {
     "delete_cmd_postfix": "",
     "delete_cmd_prefix": "del ",
     "library": "var_list.py",
     "varRefreshCmd": "print(var_dic_list())"
    },
    "r": {
     "delete_cmd_postfix": ") ",
     "delete_cmd_prefix": "rm(",
     "library": "var_list.r",
     "varRefreshCmd": "cat(var_dic_list()) "
    }
   },
   "types_to_exclude": [
    "module",
    "function",
    "builtin_function_or_method",
    "instance",
    "_Feature"
   ],
   "window_display": false
  }
 },
 "nbformat": 4,
 "nbformat_minor": 2
}
