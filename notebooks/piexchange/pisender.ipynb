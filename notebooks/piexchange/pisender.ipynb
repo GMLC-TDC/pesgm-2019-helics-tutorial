{
 "cells": [
  {
   "cell_type": "markdown",
   "metadata": {},
   "source": [
    "# Pi Sender\n",
    "\n",
    "This process sends the value `pi` to a separate HELICS federate."
   ]
  },
  {
   "cell_type": "markdown",
   "metadata": {
    "ExecuteTime": {
     "end_time": "2019-07-30T21:26:10.178362Z",
     "start_time": "2019-07-30T21:26:10.175505Z"
    }
   },
   "source": [
    "### Initialization"
   ]
  },
  {
   "cell_type": "code",
   "execution_count": null,
   "metadata": {
    "ExecuteTime": {
     "end_time": "2019-07-30T21:28:14.823120Z",
     "start_time": "2019-07-30T21:28:14.809706Z"
    }
   },
   "outputs": [],
   "source": [
    "# -*- coding: utf-8 -*-\n",
    "import time\n",
    "import helics as h\n",
    "from math import pi\n",
    "\n",
    "initstring = \"-f 2 --name=mainbroker\"\n",
    "fedinitstring = \"--broker=mainbroker --federates=1\"\n",
    "deltat = 0.01\n",
    "\n",
    "helicsversion = h.helicsGetVersion()\n",
    "\n",
    "print(\"PI SENDER: Helics version = {}\".format(helicsversion))"
   ]
  },
  {
   "cell_type": "markdown",
   "metadata": {},
   "source": [
    "### Create the broker"
   ]
  },
  {
   "cell_type": "code",
   "execution_count": null,
   "metadata": {
    "ExecuteTime": {
     "end_time": "2019-07-30T21:28:14.838824Z",
     "start_time": "2019-07-30T21:28:14.827059Z"
    }
   },
   "outputs": [],
   "source": [
    "\n",
    "print(\"Creating Broker\")\n",
    "broker = h.helicsCreateBroker(\"zmq\", \"\", initstring)\n",
    "print(\"Created Broker\")\n",
    "\n",
    "print(\"Checking if Broker is connected\")\n",
    "isconnected = h.helicsBrokerIsConnected(broker)\n",
    "print(\"Checked if Broker is connected\")\n",
    "\n",
    "if isconnected == 1:\n",
    "    print(\"Broker created and connected\")"
   ]
  },
  {
   "cell_type": "markdown",
   "metadata": {},
   "source": [
    "### Create the federate info object"
   ]
  },
  {
   "cell_type": "code",
   "execution_count": null,
   "metadata": {
    "ExecuteTime": {
     "end_time": "2019-07-30T21:28:14.848361Z",
     "start_time": "2019-07-30T21:28:14.843671Z"
    }
   },
   "outputs": [],
   "source": [
    "# Create Federate Info object that describes the federate properties #\n",
    "fedinfo = h.helicsCreateFederateInfo()\n",
    "\n",
    "# Set Federate name #\n",
    "h.helicsFederateInfoSetCoreName(fedinfo, \"TestA Federate\")\n",
    "\n",
    "# Set core type from string #\n",
    "h.helicsFederateInfoSetCoreTypeFromString(fedinfo, \"zmq\")\n",
    "\n",
    "# Federate init string #\n",
    "h.helicsFederateInfoSetCoreInitString(fedinfo, fedinitstring)\n",
    "\n",
    "# Set the message interval (timedelta) for federate. Note th#\n",
    "# HELICS minimum message time interval is 1 ns and by default\n",
    "# it uses a time delta of 1 second. What is provided to the\n",
    "# setTimedelta routine is a multiplier for the default timedelta.\n",
    "\n",
    "# Set one second message interval #\n",
    "h.helicsFederateInfoSetTimeProperty(fedinfo, h.helics_property_time_delta, deltat)"
   ]
  },
  {
   "cell_type": "markdown",
   "metadata": {},
   "source": [
    "### Create a value federate"
   ]
  },
  {
   "cell_type": "code",
   "execution_count": null,
   "metadata": {
    "ExecuteTime": {
     "end_time": "2019-07-30T21:28:14.965528Z",
     "start_time": "2019-07-30T21:28:14.851973Z"
    }
   },
   "outputs": [],
   "source": [
    "# Create value federate #\n",
    "vfed = h.helicsCreateValueFederate(\"TestA Federate\", fedinfo)\n",
    "print(\"PI SENDER: Value federate created\")\n",
    "\n",
    "# Register the publication #\n",
    "pub = h.helicsFederateRegisterGlobalTypePublication(vfed, \"testA\", \"double\", \"\")\n",
    "print(\"PI SENDER: Publication registered\")"
   ]
  },
  {
   "cell_type": "markdown",
   "metadata": {
    "ExecuteTime": {
     "end_time": "2019-07-30T21:27:14.562216Z",
     "start_time": "2019-07-30T21:27:14.557848Z"
    }
   },
   "source": [
    "### Enter execution"
   ]
  },
  {
   "cell_type": "code",
   "execution_count": null,
   "metadata": {
    "ExecuteTime": {
     "end_time": "2019-07-30T21:28:23.505203Z",
     "start_time": "2019-07-30T21:28:14.968726Z"
    }
   },
   "outputs": [],
   "source": [
    "# Enter execution mode #\n",
    "h.helicsFederateEnterExecutingMode(vfed)\n",
    "print(\"PI SENDER: Entering execution mode\")"
   ]
  },
  {
   "cell_type": "markdown",
   "metadata": {
    "ExecuteTime": {
     "end_time": "2019-07-30T21:27:23.402236Z",
     "start_time": "2019-07-30T21:27:23.398886Z"
    }
   },
   "source": [
    "### Start simulation"
   ]
  },
  {
   "cell_type": "code",
   "execution_count": null,
   "metadata": {
    "ExecuteTime": {
     "end_time": "2019-07-30T21:28:29.535991Z",
     "start_time": "2019-07-30T21:28:23.508102Z"
    }
   },
   "outputs": [],
   "source": [
    "# This federate will be publishing deltat*pi for numsteps steps #\n",
    "this_time = 0.0\n",
    "value = pi\n",
    "\n",
    "for t in range(5, 10):\n",
    "    val = value\n",
    "\n",
    "    currenttime = h.helicsFederateRequestTime(vfed, t)\n",
    "\n",
    "    h.helicsPublicationPublishDouble(pub, val)\n",
    "    print(\n",
    "        \"PI SENDER: Sending value pi = {} at time {} to PI RECEIVER\".format(\n",
    "            val, currenttime\n",
    "        )\n",
    "    )\n",
    "\n",
    "    time.sleep(1)\n",
    "\n",
    "h.helicsFederateFinalize(vfed)\n",
    "print(\"PI SENDER: Federate finalized\")\n",
    "\n",
    "while h.helicsBrokerIsConnected(broker):\n",
    "    time.sleep(1)\n",
    "\n",
    "h.helicsFederateFree(vfed)\n",
    "h.helicsCloseLibrary()\n",
    "\n",
    "print(\"PI SENDER: Broker disconnected\")"
   ]
  },
  {
   "cell_type": "code",
   "execution_count": null,
   "metadata": {},
   "outputs": [],
   "source": []
  }
 ],
 "metadata": {
  "@webio": {
   "lastCommId": null,
   "lastKernelId": null
  },
  "hide_input": false,
  "kernelspec": {
   "display_name": "Python 3",
   "language": "python",
   "name": "python3"
  },
  "language_info": {
   "codemirror_mode": {
    "name": "ipython",
    "version": 3
   },
   "file_extension": ".py",
   "mimetype": "text/x-python",
   "name": "python",
   "nbconvert_exporter": "python",
   "pygments_lexer": "ipython3",
   "version": "3.7.3"
  },
  "varInspector": {
   "cols": {
    "lenName": 16,
    "lenType": 16,
    "lenVar": 40
   },
   "kernels_config": {
    "python": {
     "delete_cmd_postfix": "",
     "delete_cmd_prefix": "del ",
     "library": "var_list.py",
     "varRefreshCmd": "print(var_dic_list())"
    },
    "r": {
     "delete_cmd_postfix": ") ",
     "delete_cmd_prefix": "rm(",
     "library": "var_list.r",
     "varRefreshCmd": "cat(var_dic_list()) "
    }
   },
   "types_to_exclude": [
    "module",
    "function",
    "builtin_function_or_method",
    "instance",
    "_Feature"
   ],
   "window_display": false
  }
 },
 "nbformat": 4,
 "nbformat_minor": 2
}
