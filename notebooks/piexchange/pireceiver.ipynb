{
 "cells": [
  {
   "cell_type": "markdown",
   "metadata": {},
   "source": [
    "# Pi Receiver\n",
    "\n",
    "Receives value of `pi` from a separate HELICS process"
   ]
  },
  {
   "cell_type": "markdown",
   "metadata": {
    "ExecuteTime": {
     "end_time": "2019-07-30T21:23:44.443115Z",
     "start_time": "2019-07-30T21:23:44.439752Z"
    }
   },
   "source": [
    "### Initialization"
   ]
  },
  {
   "cell_type": "code",
   "execution_count": null,
   "metadata": {
    "ExecuteTime": {
     "end_time": "2019-07-30T21:28:23.371300Z",
     "start_time": "2019-07-30T21:28:23.359465Z"
    }
   },
   "outputs": [],
   "source": [
    "# -*- coding: utf-8 -*-\n",
    "import helics as h\n",
    "\n",
    "fedinitstring = \"--federates=1\"\n",
    "deltat = 0.01\n",
    "\n",
    "helicsversion = h.helicsGetVersion()\n",
    "\n",
    "print(\"PI RECEIVER: Helics version = {}\".format(helicsversion))"
   ]
  },
  {
   "cell_type": "markdown",
   "metadata": {},
   "source": [
    "### Create the federate Info object"
   ]
  },
  {
   "cell_type": "code",
   "execution_count": null,
   "metadata": {
    "ExecuteTime": {
     "end_time": "2019-07-30T21:28:23.380310Z",
     "start_time": "2019-07-30T21:28:23.373874Z"
    }
   },
   "outputs": [],
   "source": [
    "# Create Federate Info object that describes the federate properties */\n",
    "print(\"PI RECEIVER: Creating Federate Info\")\n",
    "fedinfo = h.helicsCreateFederateInfo()\n",
    "\n",
    "# Set Federate name\n",
    "print(\"PI RECEIVER: Setting Federate Info Name\")\n",
    "h.helicsFederateInfoSetCoreName(fedinfo, \"TestB Federate\")\n",
    "\n",
    "# Set core type from string\n",
    "print(\"PI RECEIVER: Setting Federate Info Core Type\")\n",
    "h.helicsFederateInfoSetCoreTypeFromString(fedinfo, \"zmq\")\n",
    "\n",
    "# Federate init string\n",
    "print(\"PI RECEIVER: Setting Federate Info Init String\")\n",
    "h.helicsFederateInfoSetCoreInitString(fedinfo, fedinitstring)\n",
    "\n",
    "# Set the message interval (timedelta) for federate. Note that\n",
    "# HELICS minimum message time interval is 1 ns and by default\n",
    "# it uses a time delta of 1 second. What is provided to the\n",
    "# setTimedelta routine is a multiplier for the default timedelta.\n",
    "\n",
    "# Set one second message interval\n",
    "print(\"PI RECEIVER: Setting Federate Info Time Delta\")\n",
    "h.helicsFederateInfoSetTimeProperty(fedinfo, h.helics_property_time_delta, deltat)"
   ]
  },
  {
   "cell_type": "markdown",
   "metadata": {},
   "source": [
    "### Create the value federate"
   ]
  },
  {
   "cell_type": "code",
   "execution_count": null,
   "metadata": {
    "ExecuteTime": {
     "end_time": "2019-07-30T21:28:23.497611Z",
     "start_time": "2019-07-30T21:28:23.383159Z"
    }
   },
   "outputs": [],
   "source": [
    "# Create value federate\n",
    "print(\"PI RECEIVER: Creating Value Federate\")\n",
    "vfed = h.helicsCreateValueFederate(\"TestB Federate\", fedinfo)\n",
    "print(\"PI RECEIVER: Value federate created\")\n",
    "\n",
    "# Subscribe to PI SENDER's publication\n",
    "sub = h.helicsFederateRegisterSubscription(vfed, \"testA\", \"\")\n",
    "print(\"PI RECEIVER: Subscription registered\")"
   ]
  },
  {
   "cell_type": "markdown",
   "metadata": {
    "ExecuteTime": {
     "end_time": "2019-07-30T21:25:02.162131Z",
     "start_time": "2019-07-30T21:25:02.159707Z"
    }
   },
   "source": [
    "### Enter execution"
   ]
  },
  {
   "cell_type": "code",
   "execution_count": null,
   "metadata": {
    "ExecuteTime": {
     "end_time": "2019-07-30T21:28:23.505408Z",
     "start_time": "2019-07-30T21:28:23.500350Z"
    }
   },
   "outputs": [],
   "source": [
    "h.helicsFederateEnterExecutingMode(vfed)\n",
    "print(\"PI RECEIVER: Entering execution mode\")"
   ]
  },
  {
   "cell_type": "markdown",
   "metadata": {},
   "source": [
    "### Start simulation"
   ]
  },
  {
   "cell_type": "code",
   "execution_count": null,
   "metadata": {
    "ExecuteTime": {
     "end_time": "2019-07-30T21:28:28.533673Z",
     "start_time": "2019-07-30T21:28:23.507989Z"
    }
   },
   "outputs": [],
   "source": [
    "value = 0.0\n",
    "prevtime = 0\n",
    "\n",
    "currenttime = -1\n",
    "requested_time = 100\n",
    "\n",
    "while currenttime < requested_time:\n",
    "\n",
    "    currenttime = h.helicsFederateRequestTime(vfed, requested_time)\n",
    "\n",
    "    value = h.helicsInputGetString(sub)\n",
    "    print(\n",
    "        \"PI RECEIVER: Received value = {} at time {} from PI SENDER\".format(\n",
    "            value, currenttime\n",
    "        )\n",
    "    )\n",
    "\n",
    "h.helicsFederateFinalize(vfed)\n",
    "\n",
    "h.helicsFederateFree(vfed)\n",
    "h.helicsCloseLibrary()\n",
    "print(\"PI RECEIVER: Federate finalized\")"
   ]
  },
  {
   "cell_type": "code",
   "execution_count": null,
   "metadata": {},
   "outputs": [],
   "source": []
  }
 ],
 "metadata": {
  "@webio": {
   "lastCommId": null,
   "lastKernelId": null
  },
  "hide_input": false,
  "kernelspec": {
   "display_name": "Python 3",
   "language": "python",
   "name": "python3"
  },
  "language_info": {
   "codemirror_mode": {
    "name": "ipython",
    "version": 3
   },
   "file_extension": ".py",
   "mimetype": "text/x-python",
   "name": "python",
   "nbconvert_exporter": "python",
   "pygments_lexer": "ipython3",
   "version": "3.7.3"
  },
  "varInspector": {
   "cols": {
    "lenName": 16,
    "lenType": 16,
    "lenVar": 40
   },
   "kernels_config": {
    "python": {
     "delete_cmd_postfix": "",
     "delete_cmd_prefix": "del ",
     "library": "var_list.py",
     "varRefreshCmd": "print(var_dic_list())"
    },
    "r": {
     "delete_cmd_postfix": ") ",
     "delete_cmd_prefix": "rm(",
     "library": "var_list.r",
     "varRefreshCmd": "cat(var_dic_list()) "
    }
   },
   "types_to_exclude": [
    "module",
    "function",
    "builtin_function_or_method",
    "instance",
    "_Feature"
   ],
   "window_display": false
  }
 },
 "nbformat": 4,
 "nbformat_minor": 2
}
